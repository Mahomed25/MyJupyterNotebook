{
 "cells": [
  {
   "cell_type": "markdown",
   "metadata": {},
   "source": [
    "<center>\n",
    "    <img src=\"https://cf-courses-data.s3.us.cloud-object-storage.appdomain.cloud/IBMDeveloperSkillsNetwork-DS0105EN-SkillsNetwork/labs/Module2/images/SN_web_lightmode.png\" width=\"300\" alt=\"cognitiveclass.ai logo\">\n",
    "</center>\n"
   ]
  },
  {
   "cell_type": "markdown",
   "metadata": {},
   "source": [
    "#### Add your code below following the instructions given in the course\n"
   ]
  },
  {
   "cell_type": "markdown",
   "metadata": {},
   "source": [
    "# My First Jupyter Notebook"
   ]
  },
  {
   "cell_type": "markdown",
   "metadata": {},
   "source": [
    "## Introduction\n",
    "\n",
    "Welcome to my Jupyter Notebook! This notebook explores various topics in data science, including data analysis, visualization, and machine learning. The purpose of this notebook is to demonstrate the capabilities of Jupyter in creating interactive reports and presentations."
   ]
  },
  {
   "cell_type": "markdown",
   "metadata": {},
   "source": [
    "## Data Science Languages\n",
    "\n",
    "The following programming languages are commonly used in data science:\n",
    "\n",
    "- Python\n",
    "- R\n",
    "- SQL\n",
    "- Java\n",
    "- Julia\n",
    "- Scala\n",
    "- MATLAB\n",
    "- SAS"
   ]
  },
  {
   "cell_type": "markdown",
   "metadata": {},
   "source": [
    "## Data Science Libraries\n",
    "\n",
    "The following libraries are widely used in data science:\n",
    "\n",
    "- **NumPy**: For numerical computations and array operations.\n",
    "- **Pandas**: For data manipulation and analysis, particularly with data frames.\n",
    "- **Matplotlib**: For creating static, animated, and interactive visualizations.\n",
    "- **Seaborn**: For statistical data visualization, built on top of Matplotlib.\n",
    "- **SciPy**: For scientific and technical computing.\n",
    "- **Scikit-learn**: For machine learning algorithms and tools.\n",
    "- **TensorFlow**: For deep learning and neural networks.\n",
    "- **Keras**: High-level neural networks API, running on top of TensorFlow.\n",
    "- **PyTorch**: Another popular deep learning library, developed by Facebook.\n",
    "- **Statsmodels**: For statistical models and tests."
   ]
  },
  {
   "cell_type": "markdown",
   "metadata": {},
   "source": [
    "## Data Science Tools\n",
    "\n",
    "Here is a table listing some popular tools used in data science:\n",
    "\n",
    "| Tool          | Description                                      | Use Case                         |\n",
    "|---------------|--------------------------------------------------|----------------------------------|\n",
    "| **Jupyter**   | An open-source web application for creating and sharing documents that contain live code. | Interactive computing and visualization. |\n",
    "| **GitHub**    | A platform for version control and collaboration. | Code collaboration and version control. |\n",
    "| **Tableau**   | A data visualization tool used for creating interactive visualizations and dashboards. | Data visualization.              |\n",
    "| **Hadoop**    | A framework for distributed storage and processing of large data sets. | Big data processing.            |\n",
    "| **Power BI**  | A business analytics service for visualizing and sharing insights. | Business intelligence and visualization. |\n",
    "| **Excel**     | A spreadsheet application used for data analysis and visualization. | Data analysis and reporting.    |\n",
    "| **Google Colab** | A cloud-based platform for running Python code and sharing notebooks. | Machine learning and deep learning projects. |"
   ]
  },
  {
   "cell_type": "markdown",
   "metadata": {},
   "source": [
    "## Arithmetic Expressions Examples\n",
    "\n",
    "Here are some basic examples of arithmetic expressions:\n",
    "\n",
    "- Addition: `3 + 5 = 8`\n",
    "- Subtraction: `10 - 2 = 8`\n",
    "- Multiplication: `4 * 7 = 28`\n",
    "- Division: `20 / 4 = 5`\n",
    "- Exponentiation: `2 ** 3 = 8`"
   ]
  },
  {
   "cell_type": "code",
   "execution_count": 3,
   "metadata": {},
   "outputs": [
    {
     "name": "stdout",
     "output_type": "stream",
     "text": [
      "Multiplication result:  15\n",
      "Addition result:  8\n"
     ]
    }
   ],
   "source": [
    "# Define numbers\n",
    "a = 5\n",
    "b = 3\n",
    "\n",
    "# Multiply and add\n",
    "multiplication_result = a * b\n",
    "addition_result = a + b\n",
    "\n",
    "# Output the results\n",
    "print(\"Multiplication result: \", multiplication_result)\n",
    "print(\"Addition result: \", addition_result)"
   ]
  },
  {
   "cell_type": "code",
   "execution_count": 4,
   "metadata": {},
   "outputs": [
    {
     "name": "stdout",
     "output_type": "stream",
     "text": [
      "150 minutes is equal to 2.5 hours.\n"
     ]
    }
   ],
   "source": [
    "# Define the number of minutes\n",
    "minutes = 150\n",
    "\n",
    "# Convert minutes to hours\n",
    "hours = minutes / 60\n",
    "\n",
    "# Output the result\n",
    "print(f\"{minutes} minutes is equal to {hours} hours.\")"
   ]
  },
  {
   "cell_type": "markdown",
   "metadata": {},
   "source": [
    "## Objectives\n",
    "\n",
    "The main objectives of this notebook are:\n",
    "\n",
    "- Understand how to use Jupyter Notebook for both markdown and code cells.\n",
    "- Practice basic markdown formatting, such as creating tables and lists.\n",
    "- Perform basic arithmetic operations using Python code.\n",
    "- Convert units (e.g., minutes to hours) using Python.\n",
    "- Learn how to effectively document and organize work in Jupyter Notebook."
   ]
  },
  {
   "cell_type": "markdown",
   "metadata": {},
   "source": [
    "## Author\n",
    "\n",
    "This notebook was created by: **Rubaneko Mahomed**"
   ]
  },
  {
   "cell_type": "code",
   "execution_count": null,
   "metadata": {},
   "outputs": [],
   "source": []
  }
 ],
 "metadata": {
  "kernelspec": {
   "display_name": "Python 3 (ipykernel)",
   "language": "python",
   "name": "python3"
  },
  "language_info": {
   "codemirror_mode": {
    "name": "ipython",
    "version": 3
   },
   "file_extension": ".py",
   "mimetype": "text/x-python",
   "name": "python",
   "nbconvert_exporter": "python",
   "pygments_lexer": "ipython3",
   "version": "3.12.8"
  }
 },
 "nbformat": 4,
 "nbformat_minor": 4
}
